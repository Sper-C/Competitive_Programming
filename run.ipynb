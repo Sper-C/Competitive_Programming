{
  "nbformat": 4,
  "nbformat_minor": 0,
  "metadata": {
    "colab": {
      "provenance": [],
      "authorship_tag": "ABX9TyOL/AGRPDB+bTKm8aGS+pWB",
      "include_colab_link": true
    },
    "kernelspec": {
      "name": "python3",
      "display_name": "Python 3"
    },
    "language_info": {
      "name": "python"
    }
  },
  "cells": [
    {
      "cell_type": "markdown",
      "metadata": {
        "id": "view-in-github",
        "colab_type": "text"
      },
      "source": [
        "<a href=\"https://colab.research.google.com/github/Sper-C/Competitive_Programming/blob/main/run.ipynb\" target=\"_parent\"><img src=\"https://colab.research.google.com/assets/colab-badge.svg\" alt=\"Open In Colab\"/></a>"
      ]
    },
    {
      "cell_type": "code",
      "execution_count": 1,
      "metadata": {
        "colab": {
          "base_uri": "https://localhost:8080/"
        },
        "id": "oBfE79hOrhFR",
        "outputId": "a727598f-bf76-47ac-cad9-20f22a0676a1"
      },
      "outputs": [
        {
          "output_type": "stream",
          "name": "stdout",
          "text": [
            "Cloning into 'mini-dnn-cpp'...\n",
            "remote: Enumerating objects: 1948, done.\u001b[K\n",
            "remote: Total 1948 (delta 0), reused 0 (delta 0), pack-reused 1948\u001b[K\n",
            "Receiving objects: 100% (1948/1948), 2.44 MiB | 4.38 MiB/s, done.\n",
            "Resolving deltas: 100% (428/428), done.\n"
          ]
        }
      ],
      "source": [
        "!git clone https://github.com/iamhankai/mini-dnn-cpp.git"
      ]
    },
    {
      "cell_type": "code",
      "source": [
        "%cd \"mini-dnn-cpp\"\n",
        "import requests\n",
        "import gzip\n",
        "from pathlib import Path\n",
        "import shutil\n",
        "import os\n",
        "\n",
        "# Setup path to data folder\n",
        "data_path = Path(\"data/mnist\")\n",
        "image_name_list = [\"train-images-idx3-ubyte\", \"train-labels-idx1-ubyte\", \"t10k-images-idx3-ubyte\", \"t10k-labels-idx1-ubyte\"]\n",
        "for name in image_name_list:\n",
        "  image_path = data_path / name\n",
        "\n",
        "  # If the image folder doesn't exist, download it and prepare it...\n",
        "  if image_path.is_dir():\n",
        "      print(f\"{image_path} directory exists.\")\n",
        "  else:\n",
        "      print(f\"Did not find {data_path} directory, creating one...\")\n",
        "      data_path.mkdir(parents=True, exist_ok=True)\n",
        "\n",
        "      # Download each data\n",
        "      image_gz_file = name + \".gz\"\n",
        "      with open(data_path / image_gz_file, \"wb\") as f:\n",
        "          request = requests.get(\"http://yann.lecun.com/exdb/mnist/\" + image_gz_file)\n",
        "          print(f\"Downloading {image_gz_file}\")\n",
        "          f.write(request.content)\n",
        "\n",
        "!gzip -d data/mnist/*.gz\n",
        "\n"
      ],
      "metadata": {
        "colab": {
          "base_uri": "https://localhost:8080/"
        },
        "id": "k1XvzrHYrk36",
        "outputId": "2c135982-7d67-4615-e115-cd334070c55c"
      },
      "execution_count": 44,
      "outputs": [
        {
          "output_type": "stream",
          "name": "stdout",
          "text": [
            "[Errno 2] No such file or directory: 'mini-dnn-cpp'\n",
            "/content/mini-dnn-cpp\n",
            "Did not find data/mnist directory, creating one...\n",
            "Downloading train-images-idx3-ubyte.gz\n",
            "Did not find data/mnist directory, creating one...\n",
            "Downloading train-labels-idx1-ubyte.gz\n",
            "Did not find data/mnist directory, creating one...\n",
            "Downloading t10k-images-idx3-ubyte.gz\n",
            "Did not find data/mnist directory, creating one...\n",
            "Downloading t10k-labels-idx1-ubyte.gz\n"
          ]
        }
      ]
    },
    {
      "cell_type": "code",
      "source": [
        "%mkdir build\n",
        "%cd build\n",
        "!cmake ..\n",
        "!make"
      ],
      "metadata": {
        "colab": {
          "base_uri": "https://localhost:8080/"
        },
        "id": "M7gQ2FDx2gG2",
        "outputId": "e80c3877-69df-4dd7-eea7-617799b0466b"
      },
      "execution_count": 46,
      "outputs": [
        {
          "output_type": "stream",
          "name": "stdout",
          "text": [
            "mkdir: cannot create directory ‘build’: File exists\n",
            "/content/mini-dnn-cpp/build\n",
            "\u001b[0mCMake Deprecation Warning at CMakeLists.txt:1 (cmake_minimum_required):\n",
            "  Compatibility with CMake < 3.5 will be removed from a future version of\n",
            "  CMake.\n",
            "\n",
            "  Update the VERSION argument <min> value or use a ...<max> suffix to tell\n",
            "  CMake that the project does not need compatibility with older versions.\n",
            "\n",
            "\u001b[0m\n",
            "-- The C compiler identification is GNU 11.4.0\n",
            "-- The CXX compiler identification is GNU 11.4.0\n",
            "-- Detecting C compiler ABI info\n",
            "-- Detecting C compiler ABI info - done\n",
            "-- Check for working C compiler: /usr/bin/cc - skipped\n",
            "-- Detecting C compile features\n",
            "-- Detecting C compile features - done\n",
            "-- Detecting CXX compiler ABI info\n",
            "-- Detecting CXX compiler ABI info - done\n",
            "-- Check for working CXX compiler: /usr/bin/c++ - skipped\n",
            "-- Detecting CXX compile features\n",
            "-- Detecting CXX compile features - done\n",
            "-- Configuring done (0.9s)\n",
            "-- Generating done (0.0s)\n",
            "-- Build files have been written to: /content/mini-dnn-cpp/build\n",
            "[  6%] \u001b[32mBuilding CXX object src/CMakeFiles/MiniDNNLib.dir/mnist.cc.o\u001b[0m\n",
            "[ 13%] \u001b[32mBuilding CXX object src/CMakeFiles/MiniDNNLib.dir/network.cc.o\u001b[0m\n",
            "[ 20%] \u001b[32mBuilding CXX object src/CMakeFiles/MiniDNNLib.dir/layer/ave_pooling.cc.o\u001b[0m\n",
            "[ 26%] \u001b[32mBuilding CXX object src/CMakeFiles/MiniDNNLib.dir/layer/conv.cc.o\u001b[0m\n",
            "[ 33%] \u001b[32mBuilding CXX object src/CMakeFiles/MiniDNNLib.dir/layer/fully_connected.cc.o\u001b[0m\n",
            "[ 40%] \u001b[32mBuilding CXX object src/CMakeFiles/MiniDNNLib.dir/layer/max_pooling.cc.o\u001b[0m\n",
            "[ 46%] \u001b[32mBuilding CXX object src/CMakeFiles/MiniDNNLib.dir/layer/relu.cc.o\u001b[0m\n",
            "[ 53%] \u001b[32mBuilding CXX object src/CMakeFiles/MiniDNNLib.dir/layer/sigmoid.cc.o\u001b[0m\n",
            "[ 60%] \u001b[32mBuilding CXX object src/CMakeFiles/MiniDNNLib.dir/layer/softmax.cc.o\u001b[0m\n",
            "[ 66%] \u001b[32mBuilding CXX object src/CMakeFiles/MiniDNNLib.dir/loss/cross_entropy_loss.cc.o\u001b[0m\n",
            "[ 73%] \u001b[32mBuilding CXX object src/CMakeFiles/MiniDNNLib.dir/loss/mse_loss.cc.o\u001b[0m\n",
            "[ 80%] \u001b[32mBuilding CXX object src/CMakeFiles/MiniDNNLib.dir/optimizer/sgd.cc.o\u001b[0m\n",
            "[ 86%] \u001b[32m\u001b[1mLinking CXX static library libMiniDNNLib.a\u001b[0m\n",
            "[ 86%] Built target MiniDNNLib\n",
            "[ 93%] \u001b[32mBuilding CXX object CMakeFiles/demo.dir/demo.cc.o\u001b[0m\n",
            "[100%] \u001b[32m\u001b[1mLinking CXX executable demo\u001b[0m\n",
            "[100%] Built target demo\n"
          ]
        }
      ]
    },
    {
      "cell_type": "code",
      "source": [],
      "metadata": {
        "id": "VVCIoDpO0YMe"
      },
      "execution_count": 34,
      "outputs": []
    },
    {
      "cell_type": "code",
      "source": [],
      "metadata": {
        "id": "DGJ0v8Uz61b1"
      },
      "execution_count": null,
      "outputs": []
    }
  ]
}